{
 "cells": [
  {
   "cell_type": "code",
   "execution_count": 12,
   "metadata": {},
   "outputs": [],
   "source": [
    "# opinion about ice cream enjoyment\n",
    "ice_cream_rating=8\n",
    "# opinion about sleep enjoyment\n",
    "sleeping_rating=10"
   ]
  },
  {
   "cell_type": "code",
   "execution_count": 13,
   "metadata": {},
   "outputs": [
    {
     "name": "stdout",
     "output_type": "stream",
     "text": [
      "What is your name? \n",
      "Gonzalo\n",
      "What is your last name? \n",
      "Martinez\n"
     ]
    }
   ],
   "source": [
    "first_name=input(\"What is your name? \\n\")\n",
    "last_name=input(\"What is your last name? \\n\")"
   ]
  },
  {
   "cell_type": "code",
   "execution_count": 26,
   "metadata": {},
   "outputs": [
    {
     "name": "stdout",
     "output_type": "stream",
     "text": [
      "9.0\n"
     ]
    }
   ],
   "source": [
    "happiness_rating=(ice_cream_rating+sleeping_rating)/2\n",
    "print(happiness_rating)"
   ]
  },
  {
   "cell_type": "code",
   "execution_count": 15,
   "metadata": {},
   "outputs": [
    {
     "name": "stdout",
     "output_type": "stream",
     "text": [
      "<class 'int'>\n",
      "<class 'str'>\n",
      "<class 'float'>\n"
     ]
    }
   ],
   "source": [
    "print(type(ice_cream_rating))\n",
    "print(type(first_name))\n",
    "print(type(happines_rating))"
   ]
  },
  {
   "cell_type": "markdown",
   "metadata": {},
   "source": [
    "All data types made sense\n",
    "All where like expected"
   ]
  },
  {
   "cell_type": "code",
   "execution_count": 37,
   "metadata": {},
   "outputs": [
    {
     "name": "stdout",
     "output_type": "stream",
     "text": [
      "My name is Gonzalo and I give ice cream a score of 8 out of 10!\n",
      "\n",
      "I am Gonzalo Martinez and my sleeping enjoyment rating is 10 / 10!\n",
      "\n",
      "Based on the factors above, my happiness rating is 9.0 out of 10, or 90.0 %\n"
     ]
    }
   ],
   "source": [
    "print(\"My name is\", first_name, \"and I give ice cream a score of\",ice_cream_rating,\"out of 10!\\n\")\n",
    "print(\"I am\", first_name,last_name, \"and my sleeping enjoyment rating is\",sleeping_rating,\"/ 10!\\n\")\n",
    "print(\"Based on the factors above, my happiness rating is\",happiness_rating, \"out of 10, or\",happiness_rating*10,\"%\")"
   ]
  },
  {
   "cell_type": "code",
   "execution_count": null,
   "metadata": {},
   "outputs": [],
   "source": []
  }
 ],
 "metadata": {
  "kernelspec": {
   "display_name": "Python 3",
   "language": "python",
   "name": "python3"
  },
  "language_info": {
   "codemirror_mode": {
    "name": "ipython",
    "version": 3
   },
   "file_extension": ".py",
   "mimetype": "text/x-python",
   "name": "python",
   "nbconvert_exporter": "python",
   "pygments_lexer": "ipython3",
   "version": "3.8.5"
  }
 },
 "nbformat": 4,
 "nbformat_minor": 4
}
